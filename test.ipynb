{
 "cells": [
  {
   "cell_type": "code",
   "execution_count": 12,
   "metadata": {},
   "outputs": [],
   "source": [
    "import torch"
   ]
  },
  {
   "cell_type": "code",
   "execution_count": 24,
   "metadata": {},
   "outputs": [],
   "source": [
    "from darknet import parse_cfg \n",
    "from darknet import create_modules "
   ]
  },
  {
   "cell_type": "code",
   "execution_count": 41,
   "metadata": {},
   "outputs": [],
   "source": [
    "fpcg = parse_cfg('/home/ak/yolov3s/cfg/yolov3.cfg')"
   ]
  },
  {
   "cell_type": "code",
   "execution_count": 27,
   "metadata": {},
   "outputs": [
    {
     "data": {
      "text/plain": [
       "108"
      ]
     },
     "execution_count": 27,
     "metadata": {},
     "output_type": "execute_result"
    }
   ],
   "source": [
    "len(fpcg)"
   ]
  },
  {
   "cell_type": "code",
   "execution_count": null,
   "metadata": {},
   "outputs": [],
   "source": [
    "fpcg"
   ]
  },
  {
   "cell_type": "code",
   "execution_count": 43,
   "metadata": {},
   "outputs": [],
   "source": [
    "from darknet import create_modules\n"
   ]
  },
  {
   "cell_type": "code",
   "execution_count": 44,
   "metadata": {},
   "outputs": [],
   "source": [
    "a,b = create_modules(fpcg)"
   ]
  },
  {
   "cell_type": "code",
   "execution_count": null,
   "metadata": {},
   "outputs": [],
   "source": [
    "a"
   ]
  },
  {
   "cell_type": "code",
   "execution_count": 57,
   "metadata": {},
   "outputs": [
    {
     "data": {
      "text/plain": [
       "tensor([0., 0., 0., 0., 0., 0., 0., 0., 0., 0., 0., 0., 0., 0., 0., 0., 0., 0., 0., 0., 0., 0., 0., 0.,\n",
       "        0., 0., 0., 0., 0., 0., 0., 0.])"
      ]
     },
     "execution_count": 57,
     "metadata": {},
     "output_type": "execute_result"
    }
   ],
   "source": [
    "b[0][1].running_mean"
   ]
  },
  {
   "cell_type": "code",
   "execution_count": 25,
   "metadata": {},
   "outputs": [
    {
     "ename": "NameError",
     "evalue": "name 'fpcg' is not defined",
     "output_type": "error",
     "traceback": [
      "\u001b[0;31m---------------------------------------------------------------------------\u001b[0m",
      "\u001b[0;31mNameError\u001b[0m                                 Traceback (most recent call last)",
      "\u001b[1;32m/home/ak/yolov3s/test.ipynb Cell 4'\u001b[0m in \u001b[0;36m<cell line: 1>\u001b[0;34m()\u001b[0m\n\u001b[0;32m----> <a href='vscode-notebook-cell:/home/ak/yolov3s/test.ipynb#ch0000003?line=0'>1</a>\u001b[0m \u001b[39mfor\u001b[39;00m i,value \u001b[39min\u001b[39;00m \u001b[39menumerate\u001b[39m(fpcg):\n\u001b[1;32m      <a href='vscode-notebook-cell:/home/ak/yolov3s/test.ipynb#ch0000003?line=1'>2</a>\u001b[0m     \u001b[39mif\u001b[39;00m fpcg[i][\u001b[39m\"\u001b[39m\u001b[39mtype\u001b[39m\u001b[39m\"\u001b[39m] \u001b[39m==\u001b[39m \u001b[39m\"\u001b[39m\u001b[39mshortcut\u001b[39m\u001b[39m\"\u001b[39m:\n\u001b[1;32m      <a href='vscode-notebook-cell:/home/ak/yolov3s/test.ipynb#ch0000003?line=2'>3</a>\u001b[0m         \u001b[39mprint\u001b[39m(fpcg[i])\n",
      "\u001b[0;31mNameError\u001b[0m: name 'fpcg' is not defined"
     ]
    }
   ],
   "source": [
    "for i,value in enumerate(fpcg):\n",
    "    if fpcg[i][\"type\"] == \"shortcut\":\n",
    "        print(fpcg[i])\n"
   ]
  },
  {
   "cell_type": "code",
   "execution_count": null,
   "metadata": {},
   "outputs": [],
   "source": [
    "blocks = parse_cfg(\"cfg/yolov3.cfg\")\n"
   ]
  },
  {
   "cell_type": "code",
   "execution_count": 21,
   "metadata": {},
   "outputs": [
    {
     "name": "stdout",
     "output_type": "stream",
     "text": [
      "108\n"
     ]
    }
   ],
   "source": [
    "print(len(fpcg))"
   ]
  },
  {
   "cell_type": "code",
   "execution_count": 19,
   "metadata": {},
   "outputs": [
    {
     "name": "stdout",
     "output_type": "stream",
     "text": [
      "net\n",
      "<class 'str'>\n",
      "convolutional\n",
      "<class 'str'>\n",
      "convolutional\n",
      "<class 'str'>\n",
      "convolutional\n",
      "<class 'str'>\n",
      "convolutional\n",
      "<class 'str'>\n",
      "shortcut\n",
      "<class 'str'>\n",
      "convolutional\n",
      "<class 'str'>\n",
      "convolutional\n",
      "<class 'str'>\n",
      "convolutional\n",
      "<class 'str'>\n",
      "shortcut\n",
      "<class 'str'>\n",
      "convolutional\n",
      "<class 'str'>\n",
      "convolutional\n",
      "<class 'str'>\n",
      "shortcut\n",
      "<class 'str'>\n",
      "convolutional\n",
      "<class 'str'>\n",
      "convolutional\n",
      "<class 'str'>\n",
      "convolutional\n",
      "<class 'str'>\n",
      "shortcut\n",
      "<class 'str'>\n",
      "convolutional\n",
      "<class 'str'>\n",
      "convolutional\n",
      "<class 'str'>\n",
      "shortcut\n",
      "<class 'str'>\n",
      "convolutional\n",
      "<class 'str'>\n",
      "convolutional\n",
      "<class 'str'>\n",
      "shortcut\n",
      "<class 'str'>\n",
      "convolutional\n",
      "<class 'str'>\n",
      "convolutional\n",
      "<class 'str'>\n",
      "shortcut\n",
      "<class 'str'>\n",
      "convolutional\n",
      "<class 'str'>\n",
      "convolutional\n",
      "<class 'str'>\n",
      "shortcut\n",
      "<class 'str'>\n",
      "convolutional\n",
      "<class 'str'>\n",
      "convolutional\n",
      "<class 'str'>\n",
      "shortcut\n",
      "<class 'str'>\n",
      "convolutional\n",
      "<class 'str'>\n",
      "convolutional\n",
      "<class 'str'>\n",
      "shortcut\n",
      "<class 'str'>\n",
      "convolutional\n",
      "<class 'str'>\n",
      "convolutional\n",
      "<class 'str'>\n",
      "shortcut\n",
      "<class 'str'>\n",
      "convolutional\n",
      "<class 'str'>\n",
      "convolutional\n",
      "<class 'str'>\n",
      "convolutional\n",
      "<class 'str'>\n",
      "shortcut\n",
      "<class 'str'>\n",
      "convolutional\n",
      "<class 'str'>\n",
      "convolutional\n",
      "<class 'str'>\n",
      "shortcut\n",
      "<class 'str'>\n",
      "convolutional\n",
      "<class 'str'>\n",
      "convolutional\n",
      "<class 'str'>\n",
      "shortcut\n",
      "<class 'str'>\n",
      "convolutional\n",
      "<class 'str'>\n",
      "convolutional\n",
      "<class 'str'>\n",
      "shortcut\n",
      "<class 'str'>\n",
      "convolutional\n",
      "<class 'str'>\n",
      "convolutional\n",
      "<class 'str'>\n",
      "shortcut\n",
      "<class 'str'>\n",
      "convolutional\n",
      "<class 'str'>\n",
      "convolutional\n",
      "<class 'str'>\n",
      "shortcut\n",
      "<class 'str'>\n",
      "convolutional\n",
      "<class 'str'>\n",
      "convolutional\n",
      "<class 'str'>\n",
      "shortcut\n",
      "<class 'str'>\n",
      "convolutional\n",
      "<class 'str'>\n",
      "convolutional\n",
      "<class 'str'>\n",
      "shortcut\n",
      "<class 'str'>\n",
      "convolutional\n",
      "<class 'str'>\n",
      "convolutional\n",
      "<class 'str'>\n",
      "convolutional\n",
      "<class 'str'>\n",
      "shortcut\n",
      "<class 'str'>\n",
      "convolutional\n",
      "<class 'str'>\n",
      "convolutional\n",
      "<class 'str'>\n",
      "shortcut\n",
      "<class 'str'>\n",
      "convolutional\n",
      "<class 'str'>\n",
      "convolutional\n",
      "<class 'str'>\n",
      "shortcut\n",
      "<class 'str'>\n",
      "convolutional\n",
      "<class 'str'>\n",
      "convolutional\n",
      "<class 'str'>\n",
      "shortcut\n",
      "<class 'str'>\n",
      "convolutional\n",
      "<class 'str'>\n",
      "convolutional\n",
      "<class 'str'>\n",
      "convolutional\n",
      "<class 'str'>\n",
      "convolutional\n",
      "<class 'str'>\n",
      "convolutional\n",
      "<class 'str'>\n",
      "convolutional\n",
      "<class 'str'>\n",
      "convolutional\n",
      "<class 'str'>\n",
      "yolo\n",
      "<class 'str'>\n",
      "route\n",
      "<class 'str'>\n",
      "convolutional\n",
      "<class 'str'>\n",
      "upsample\n",
      "<class 'str'>\n",
      "route\n",
      "<class 'str'>\n",
      "convolutional\n",
      "<class 'str'>\n",
      "convolutional\n",
      "<class 'str'>\n",
      "convolutional\n",
      "<class 'str'>\n",
      "convolutional\n",
      "<class 'str'>\n",
      "convolutional\n",
      "<class 'str'>\n",
      "convolutional\n",
      "<class 'str'>\n",
      "convolutional\n",
      "<class 'str'>\n",
      "yolo\n",
      "<class 'str'>\n",
      "route\n",
      "<class 'str'>\n",
      "convolutional\n",
      "<class 'str'>\n",
      "upsample\n",
      "<class 'str'>\n",
      "route\n",
      "<class 'str'>\n",
      "convolutional\n",
      "<class 'str'>\n",
      "convolutional\n",
      "<class 'str'>\n",
      "convolutional\n",
      "<class 'str'>\n",
      "convolutional\n",
      "<class 'str'>\n",
      "convolutional\n",
      "<class 'str'>\n",
      "convolutional\n",
      "<class 'str'>\n",
      "convolutional\n",
      "<class 'str'>\n",
      "yolo\n",
      "<class 'str'>\n"
     ]
    }
   ],
   "source": [
    "for i, module in enumerate(fpcg):\n",
    "            module_type = module[\"type\"]\n",
    "            print(module_type)\n",
    "            print(type(module[\"type\"]))"
   ]
  },
  {
   "cell_type": "code",
   "execution_count": 2,
   "metadata": {},
   "outputs": [
    {
     "name": "stdout",
     "output_type": "stream",
     "text": [
      "[1, 2, 3, 4]\n"
     ]
    }
   ],
   "source": [
    "l = [1,2,3,4,5]\n",
    "print(l[0:4])"
   ]
  },
  {
   "cell_type": "code",
   "execution_count": 4,
   "metadata": {},
   "outputs": [
    {
     "name": "stdout",
     "output_type": "stream",
     "text": [
      "tensor([0, 1, 2, 3, 4, 5])\n"
     ]
    }
   ],
   "source": [
    "import torch\n",
    "x= torch.arange(6)\n",
    "print(x)"
   ]
  },
  {
   "cell_type": "code",
   "execution_count": 8,
   "metadata": {},
   "outputs": [
    {
     "name": "stdout",
     "output_type": "stream",
     "text": [
      "tensor([[0, 1],\n",
      "        [2, 3],\n",
      "        [4, 5]])\n"
     ]
    }
   ],
   "source": [
    "print(x.view(3,2))"
   ]
  },
  {
   "cell_type": "code",
   "execution_count": 9,
   "metadata": {},
   "outputs": [],
   "source": [
    "y = torch.arange(6)"
   ]
  },
  {
   "cell_type": "code",
   "execution_count": 14,
   "metadata": {},
   "outputs": [],
   "source": [
    "x=x.view(3,2)\n",
    "y = y.view(3,2)"
   ]
  },
  {
   "cell_type": "code",
   "execution_count": 15,
   "metadata": {},
   "outputs": [],
   "source": [
    "x_y = torch.cat((x,y),1)"
   ]
  },
  {
   "cell_type": "code",
   "execution_count": 16,
   "metadata": {},
   "outputs": [
    {
     "name": "stdout",
     "output_type": "stream",
     "text": [
      "tensor([[0, 1, 0, 1],\n",
      "        [2, 3, 2, 3],\n",
      "        [4, 5, 4, 5]])\n"
     ]
    }
   ],
   "source": [
    "print(x_y)"
   ]
  },
  {
   "cell_type": "code",
   "execution_count": 6,
   "metadata": {},
   "outputs": [],
   "source": [
    "import cv2\n",
    "import numpy as np\n",
    "import torch"
   ]
  },
  {
   "cell_type": "code",
   "execution_count": 12,
   "metadata": {},
   "outputs": [],
   "source": [
    "\n",
    "img = cv2.imread(\"dog-cycle-car.png\")\n",
    "img = cv2.resize(img, (416,416))          #Resize to the input dimension\n",
    "   #Convert to float\n",
    "    #img_ = Variable(img_)                     # Convert to Variable\n",
    "    "
   ]
  },
  {
   "cell_type": "code",
   "execution_count": 20,
   "metadata": {},
   "outputs": [
    {
     "name": "stdout",
     "output_type": "stream",
     "text": [
      "[[[ 57  61  61]\n",
      "  [ 57  61  61]\n",
      "  [ 57  61  61]\n",
      "  ...\n",
      "  [154 237 215]\n",
      "  [ 84 144 137]\n",
      "  [ 28  68  67]]\n",
      "\n",
      " [[ 57  61  61]\n",
      "  [ 57  61  61]\n",
      "  [ 57  61  61]\n",
      "  ...\n",
      "  [149 228 206]\n",
      "  [ 70 126 120]\n",
      "  [ 23  59  60]]\n",
      "\n",
      " [[ 57  61  61]\n",
      "  [ 57  61  61]\n",
      "  [ 57  61  61]\n",
      "  ...\n",
      "  [148 220 199]\n",
      "  [ 53 104  98]\n",
      "  [ 30  64  64]]\n",
      "\n",
      " ...\n",
      "\n",
      " [[182 169 160]\n",
      "  [182 169 160]\n",
      "  [181 168 159]\n",
      "  ...\n",
      "  [123 127 131]\n",
      "  [ 93  96 100]\n",
      "  [ 55  58  62]]\n",
      "\n",
      " [[182 169 160]\n",
      "  [182 169 160]\n",
      "  [181 168 159]\n",
      "  ...\n",
      "  [122 125 129]\n",
      "  [ 82  85  89]\n",
      "  [ 47  50  54]]\n",
      "\n",
      " [[181 168 159]\n",
      "  [181 168 159]\n",
      "  [181 168 159]\n",
      "  ...\n",
      "  [120 123 127]\n",
      "  [ 74  78  82]\n",
      "  [ 43  45  49]]]\n"
     ]
    }
   ],
   "source": [
    "print(img)"
   ]
  },
  {
   "cell_type": "code",
   "execution_count": 21,
   "metadata": {},
   "outputs": [],
   "source": [
    "img_ =  img[:,:,::-1].transpose((2,0,1))  # BGR -> RGB | H X W C -> C X H X W \n",
    "#img_ = img_[np.newaxis,:,:,:]/255.0       #Add a channel at 0 (for batch) | Normalise\n",
    "#img_ = torch.from_numpy(img_).float()  "
   ]
  },
  {
   "cell_type": "code",
   "execution_count": 22,
   "metadata": {},
   "outputs": [
    {
     "data": {
      "text/plain": [
       "array([[[ 61,  61,  61, ..., 215, 137,  67],\n",
       "        [ 61,  61,  61, ..., 206, 120,  60],\n",
       "        [ 61,  61,  61, ..., 199,  98,  64],\n",
       "        ...,\n",
       "        [160, 160, 159, ..., 131, 100,  62],\n",
       "        [160, 160, 159, ..., 129,  89,  54],\n",
       "        [159, 159, 159, ..., 127,  82,  49]],\n",
       "\n",
       "       [[ 61,  61,  61, ..., 237, 144,  68],\n",
       "        [ 61,  61,  61, ..., 228, 126,  59],\n",
       "        [ 61,  61,  61, ..., 220, 104,  64],\n",
       "        ...,\n",
       "        [169, 169, 168, ..., 127,  96,  58],\n",
       "        [169, 169, 168, ..., 125,  85,  50],\n",
       "        [168, 168, 168, ..., 123,  78,  45]],\n",
       "\n",
       "       [[ 57,  57,  57, ..., 154,  84,  28],\n",
       "        [ 57,  57,  57, ..., 149,  70,  23],\n",
       "        [ 57,  57,  57, ..., 148,  53,  30],\n",
       "        ...,\n",
       "        [182, 182, 181, ..., 123,  93,  55],\n",
       "        [182, 182, 181, ..., 122,  82,  47],\n",
       "        [181, 181, 181, ..., 120,  74,  43]]], dtype=uint8)"
      ]
     },
     "execution_count": 22,
     "metadata": {},
     "output_type": "execute_result"
    }
   ],
   "source": [
    "img_"
   ]
  },
  {
   "cell_type": "code",
   "execution_count": 23,
   "metadata": {},
   "outputs": [
    {
     "ename": "NameError",
     "evalue": "name 'blocks' is not defined",
     "output_type": "error",
     "traceback": [
      "\u001b[0;31m---------------------------------------------------------------------------\u001b[0m",
      "\u001b[0;31mNameError\u001b[0m                                 Traceback (most recent call last)",
      "\u001b[1;32m/home/ak/yolov3s/test.ipynb Cell 20'\u001b[0m in \u001b[0;36m<cell line: 1>\u001b[0;34m()\u001b[0m\n\u001b[0;32m----> <a href='vscode-notebook-cell:/home/ak/yolov3s/test.ipynb#ch0000020?line=0'>1</a>\u001b[0m blocks\n",
      "\u001b[0;31mNameError\u001b[0m: name 'blocks' is not defined"
     ]
    }
   ],
   "source": [
    "blocks"
   ]
  },
  {
   "cell_type": "code",
   "execution_count": 1,
   "metadata": {},
   "outputs": [],
   "source": [
    "from util import load_classes"
   ]
  },
  {
   "cell_type": "code",
   "execution_count": 4,
   "metadata": {},
   "outputs": [],
   "source": [
    "class_names = load_classes('/home/ak/yolov3s/data/coco.names')"
   ]
  },
  {
   "cell_type": "code",
   "execution_count": 7,
   "metadata": {},
   "outputs": [
    {
     "data": {
      "text/plain": [
       "80"
      ]
     },
     "execution_count": 7,
     "metadata": {},
     "output_type": "execute_result"
    }
   ],
   "source": [
    "len(class_names)"
   ]
  }
 ],
 "metadata": {
  "interpreter": {
   "hash": "31f2aee4e71d21fbe5cf8b01ff0e069b9275f58929596ceb00d14d90e3e16cd6"
  },
  "kernelspec": {
   "display_name": "Python 3.10.4 64-bit",
   "language": "python",
   "name": "python3"
  },
  "language_info": {
   "codemirror_mode": {
    "name": "ipython",
    "version": 3
   },
   "file_extension": ".py",
   "mimetype": "text/x-python",
   "name": "python",
   "nbconvert_exporter": "python",
   "pygments_lexer": "ipython3",
   "version": "3.10.4"
  },
  "orig_nbformat": 4
 },
 "nbformat": 4,
 "nbformat_minor": 2
}
